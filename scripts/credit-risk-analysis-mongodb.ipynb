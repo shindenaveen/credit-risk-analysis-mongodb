{
 "cells": [
  {
   "cell_type": "code",
   "execution_count": 2,
   "id": "dd3f604f-5431-42d8-9d5b-5c3c1949aae9",
   "metadata": {},
   "outputs": [
    {
     "name": "stdout",
     "output_type": "stream",
     "text": [
      "Inserted 10 records into MongoDB.\n"
     ]
    }
   ],
   "source": [
    "import pandas as pd\n",
    "from pymongo import MongoClient\n",
    "\n",
    "# Load your CSV data into a pandas DataFrame\n",
    "df = pd.read_csv('credit_risk_data.csv')\n",
    "\n",
    "# Convert DataFrame to list of dictionaries\n",
    "records = df.to_dict('records')\n",
    "\n",
    "# Connect to MongoDB\n",
    "client = MongoClient('mongodb://localhost:27017/')\n",
    "\n",
    "# Access (or automatically create) your database and collection\n",
    "db = client['credit_db']\n",
    "collection = db['credit_data']\n",
    "\n",
    "# Insert all records\n",
    "collection.insert_many(records)\n",
    "\n",
    "print(f\"Inserted {len(records)} records into MongoDB.\")\n"
   ]
  },
  {
   "cell_type": "code",
   "execution_count": 3,
   "id": "85c08144-4af8-4814-987a-ad1c6a6bf322",
   "metadata": {},
   "outputs": [],
   "source": [
    "from pymongo import MongoClient\n",
    "import pandas as pd\n",
    "\n",
    "def load_data_from_mongodb(\n",
    "    uri=\"mongodb://localhost:27017/\",\n",
    "    database=\"credit_db\",\n",
    "    collection=\"credit_data\",\n",
    "    query={}\n",
    "):\n",
    "    client = MongoClient(uri)\n",
    "    db = client[database]\n",
    "    coll = db[collection]\n",
    "    cursor = coll.find(query)\n",
    "    data = list(cursor)\n",
    "    for record in data:\n",
    "        record.pop('_id', None)\n",
    "    return pd.DataFrame(data)\n",
    "\n",
    "if __name__ == \"__main__\":\n",
    "    df = load_data_from_mongodb()\n",
    "    df.to_csv(\"mongo_data.csv\", index=False)\n"
   ]
  },
  {
   "cell_type": "code",
   "execution_count": 5,
   "id": "5afe7a20-1203-45e7-86b0-5f4a1174774e",
   "metadata": {},
   "outputs": [
    {
     "name": "stdout",
     "output_type": "stream",
     "text": [
      "Selected features saved to selected.csv: ['age', 'credit_amount', 'duration_months', 'job_management', 'job_skilled', 'job_unskilled', 'purpose_business', 'purpose_car', 'purpose_education', 'purpose_house']\n"
     ]
    }
   ],
   "source": [
    "import pandas as pd\n",
    "from sklearn.ensemble import RandomForestClassifier\n",
    "\n",
    "def feature_selection(input_csv, output_csv, target):\n",
    "    df = pd.read_csv(input_csv)\n",
    "    \n",
    "    # Separate features and target\n",
    "    X = df.drop(target, axis=1)\n",
    "    y = df[target]\n",
    "    \n",
    "    # Convert categorical columns to one-hot encoding\n",
    "    X_encoded = pd.get_dummies(X)\n",
    "    \n",
    "    # Fit RandomForest\n",
    "    model = RandomForestClassifier(random_state=42)\n",
    "    model.fit(X_encoded, y)\n",
    "    \n",
    "    # Get feature importances\n",
    "    importances = model.feature_importances_\n",
    "    \n",
    "    # Select features with importance > 0.02\n",
    "    selected_features = X_encoded.columns[importances > 0.02].tolist()\n",
    "    \n",
    "    # Since X_encoded has dummies, but original df does not,\n",
    "    # select those columns from encoded X and add target\n",
    "    selected_df = pd.concat([X_encoded[selected_features], y], axis=1)\n",
    "    \n",
    "    # Save selected features + target to output CSV\n",
    "    selected_df.to_csv(output_csv, index=False)\n",
    "    print(f\"Selected features saved to {output_csv}: {selected_features}\")\n",
    "\n",
    "if __name__ == \"__main__\":\n",
    "    feature_selection(\"mongo_data.csv\", \"selected.csv\", target='default')\n"
   ]
  },
  {
   "cell_type": "code",
   "execution_count": null,
   "id": "77a9045b-6bef-4c7b-99b2-1ddd58303b6b",
   "metadata": {},
   "outputs": [],
   "source": [
    "import pandas as pd\n",
    "from sklearn.model_selection import train_test_split\n",
    "from xgboost import XGBClassifier\n",
    "import pickle\n",
    "import json\n",
    "\n",
    "def train(input_csv, model_path, metrics_path, target='default'):\n",
    "    df = pd.read_csv(input_csv)\n",
    "    X = df.drop(target, axis=1)\n",
    "    y = df[target]\n",
    "    X_train, X_test, y_train, y_test = train_test_split(X, y, test_size=0.2)\n",
    "    model = XGBClassifier().fit(X_train, y_train)\n",
    "    acc = model.score(X_test, y_test)\n",
    "    pickle.dump(model, open(model_path, \"wb\"))\n",
    "    metrics = {\"accuracy\": acc}\n",
    "    with open(metrics_path, \"w\") as f:\n",
    "        json.dump(metrics, f)\n",
    "    pd.DataFrame({\"truth\": y_test, \"pred\": model.predict(X_test)}).to_csv(\"predictions.csv\", index=False)\n",
    "\n",
    "if __name__ == \"__main__\":\n",
    "    train(\"selected.csv\", \"model.pkl\", \"metrics.json\")\n"
   ]
  },
  {
   "cell_type": "code",
   "execution_count": null,
   "id": "2c525f2d-9fde-4b43-b712-08a4ca528370",
   "metadata": {},
   "outputs": [
    {
     "name": "stdout",
     "output_type": "stream",
     "text": [
      " * Serving Flask app '__main__'\n",
      " * Debug mode: on\n"
     ]
    },
    {
     "name": "stderr",
     "output_type": "stream",
     "text": [
      "WARNING: This is a development server. Do not use it in a production deployment. Use a production WSGI server instead.\n",
      " * Running on http://127.0.0.1:5000\n",
      "Press CTRL+C to quit\n"
     ]
    }
   ],
   "source": [
    "from flask import Flask, request, jsonify\n",
    "import pickle\n",
    "import pandas as pd\n",
    "\n",
    "app = Flask(__name__)\n",
    "model = pickle.load(open(\"model.pkl\", \"rb\"))\n",
    "\n",
    "@app.route(\"/predict\", methods=[\"POST\"])\n",
    "def predict():\n",
    "    data = request.get_json()\n",
    "    df = pd.DataFrame([data])\n",
    "    pred = model.predict(df)[0]\n",
    "    return jsonify({\"prediction\": int(pred)})\n",
    "\n",
    "if __name__ == \"__main__\":\n",
    "    import os\n",
    "    # Disable the Flask debugger's auto-reloader when running in Jupyter/IPython\n",
    "    debug = True\n",
    "    use_reloader = False\n",
    "    app.run(debug=debug, use_reloader=use_reloader)"
   ]
  },
  {
   "cell_type": "code",
   "execution_count": null,
   "id": "754bc160-7069-435a-b083-4dc71d3f5c76",
   "metadata": {},
   "outputs": [],
   "source": []
  }
 ],
 "metadata": {
  "kernelspec": {
   "display_name": "Python 3 (ipykernel)",
   "language": "python",
   "name": "python3"
  },
  "language_info": {
   "codemirror_mode": {
    "name": "ipython",
    "version": 3
   },
   "file_extension": ".py",
   "mimetype": "text/x-python",
   "name": "python",
   "nbconvert_exporter": "python",
   "pygments_lexer": "ipython3",
   "version": "3.8.10"
  }
 },
 "nbformat": 4,
 "nbformat_minor": 5
}
